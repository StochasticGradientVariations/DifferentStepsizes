{
 "cells": [
  {
   "cell_type": "code",
   "execution_count": 2,
   "id": "53c04213-ac3c-4dd4-91bb-4b1ec2717bb6",
   "metadata": {},
   "outputs": [
    {
     "data": {
      "text/plain": [
       "1111111113"
      ]
     },
     "execution_count": 2,
     "metadata": {},
     "output_type": "execute_result"
    }
   ],
   "source": [
    "2+1111111111"
   ]
  },
  {
   "cell_type": "code",
   "execution_count": 1,
   "id": "79780cb7-798a-4cfa-9196-212bbb618d51",
   "metadata": {},
   "outputs": [],
   "source": [
    "import sys\n",
    "# Προσθέτουμε το υποφάκελο pytorch στο path ώστε να μπορούμε να κάνουμε import\n",
    "sys.path.append(\"./pytorch\")\n",
    "\n",
    "import matplotlib\n",
    "import numpy as np\n",
    "import seaborn as sns\n",
    "\n",
    "import matplotlib.pyplot as plt\n",
    "import numpy.linalg as la\n",
    "from sklearn.datasets import load_svmlight_file\n",
    "\n",
    "from optimizers import Gd, Nesterov, Adgd, AdgdAccel, Bb, Polyak\n",
    "from loss_functions import logistic_loss, logistic_gradient\n",
    "\n",
    "# --- Προσθήκη των custom AdGrad υλοποιήσεων από pytorch/optimizer_adgrad*.py ---\n",
    "from optimizer_adgrad    import AdsgdAdGrad\n",
    "from optimizer_adgrad_nesterov import AdsgdAdGradNesterov\n",
    "\n",
    "sns.set(style=\"whitegrid\", font_scale=1.2, context=\"talk\", \n",
    "        palette=sns.color_palette(\"bright\"), color_codes=False)\n",
    "matplotlib.rcParams['mathtext.fontset'] = 'cm'\n",
    "\n",
    "dataset = 'covtype'\n",
    "data_path = './datasets/' + dataset\n",
    "if dataset == 'covtype':\n",
    "    data_path += '.bz2'\n",
    "\n",
    "if dataset == 'covtype':\n",
    "    it_max = 10000\n",
    "else:\n",
    "    it_max = 3000\n",
    "\n",
    "def logistic_smoothness(X):\n",
    "    return 0.25 * np.max(la.eigvalsh(X.T @ X / X.shape[0]))\n",
    "\n",
    "\n",
    "data = load_svmlight_file(data_path)\n",
    "X, y = data[0].toarray(), data[1]\n",
    "if (np.unique(y) == [1, 2]).all():\n",
    "    # Loss functions support only labels from {0, 1}\n",
    "    y -= 1\n",
    "n, d = X.shape\n",
    "L = logistic_smoothness(X)\n",
    "l2 = L / n if dataset == 'covtype' else L / (10 * n) \n",
    "w0 = np.zeros(d)\n",
    "\n",
    "def loss_func(w):\n",
    "    return logistic_loss(w, X, y, l2)\n",
    "\n",
    "def grad_func(w):\n",
    "    return logistic_gradient(w, X, y, l2)\n"
   ]
  },
  {
   "cell_type": "code",
   "execution_count": null,
   "id": "7ebc1f2f-6074-4e95-b603-3aeeae3380a1",
   "metadata": {},
   "outputs": [],
   "source": [
    "gd = Gd(lr=1 / L, loss_func=loss_func, grad_func=grad_func, it_max=it_max)\n",
    "gd.run(w0=w0)"
   ]
  },
  {
   "cell_type": "code",
   "execution_count": null,
   "id": "024204a9-5be7-43ab-9e13-7ad5da15301c",
   "metadata": {},
   "outputs": [],
   "source": [
    "nest = Nesterov(lr=1 / L, loss_func=loss_func, grad_func=grad_func, it_max=it_max)\n",
    "nest.run(w0=w0)"
   ]
  },
  {
   "cell_type": "code",
   "execution_count": null,
   "id": "2d7f1b00-fd6b-4652-8743-9dc148a67e04",
   "metadata": {},
   "outputs": [],
   "source": [
    "nest_str = Nesterov(lr=1 / L, strongly_convex=True, mu=l2, loss_func=loss_func, grad_func=grad_func, it_max=it_max)\n",
    "nest_str.run(w0=w0)"
   ]
  },
  {
   "cell_type": "code",
   "execution_count": null,
   "id": "80a355ae-e935-47e8-a9ec-0e02923d5f35",
   "metadata": {},
   "outputs": [],
   "source": [
    "adgd = Adgd(loss_func=loss_func, grad_func=grad_func, eps=0, it_max=it_max)\n",
    "adgd.run(w0=w0)"
   ]
  },
  {
   "cell_type": "code",
   "execution_count": null,
   "id": "54b428c0-3e1a-4bbe-9f2a-85d2bd59aacd",
   "metadata": {},
   "outputs": [],
   "source": [
    "ad_acc = AdgdAccel(loss_func=loss_func, grad_func=grad_func, it_max=it_max)\n",
    "ad_acc.run(w0=w0)"
   ]
  },
  {
   "cell_type": "code",
   "execution_count": null,
   "id": "88dbdafc-6227-4fd1-8f03-dc9b201eeb50",
   "metadata": {},
   "outputs": [],
   "source": [
    "adgrad_orig = AdsgdAdGrad(\n",
    "    loss_func=loss_func, grad_func=grad_func, eps=0, it_max=it_max, tau_rule='original'\n",
    ")\n",
    "adgrad_mod  = AdsgdAdGrad(\n",
    "    loss_func=loss_func, grad_func=grad_func, eps=0, it_max=it_max, tau_rule='mod'\n",
    ")"
   ]
  },
  {
   "cell_type": "code",
   "execution_count": null,
   "id": "f1740d81-a110-4e19-ae3d-26b6bebe0238",
   "metadata": {},
   "outputs": [],
   "source": [
    "adgradnes_orig = AdsgdAdGradNesterov(\n",
    "    loss_func=loss_func, grad_func=grad_func, eps=0, it_max=it_max, tau_rule='original'\n",
    ")\n",
    "adgradnes_mod  = AdsgdAdGradNesterov(\n",
    "    loss_func=loss_func, grad_func=grad_func, eps=0, it_max=it_max, tau_rule='mod'\n",
    ")"
   ]
  },
  {
   "cell_type": "code",
   "execution_count": null,
   "id": "a04ec764-44d6-44df-b6d5-2f6f97c1e49a",
   "metadata": {},
   "outputs": [],
   "source": [
    "# Run original and modified AdGrad variants\n",
    "adgrad_orig.run(w0=w0)\n",
    "adgrad_mod.run(w0=w0)\n"
   ]
  },
  {
   "cell_type": "code",
   "execution_count": null,
   "id": "2e61d070-f9bd-49a3-8ff8-5279009d1f95",
   "metadata": {},
   "outputs": [],
   "source": [
    "# Run original and modified AdGrad-Nesterov variants\n",
    "adgradnes_orig.run(w0=w0)\n",
    "adgradnes_mod.run(w0=w0)\n"
   ]
  },
  {
   "cell_type": "code",
   "execution_count": null,
   "id": "d6c73ea1-63f0-4e71-ae11-3451065ce350",
   "metadata": {},
   "outputs": [],
   "source": [
    "# optimizers = [gd, nest, adgd, ad_acc, nest_str]\n",
    "optimizers = [\n",
    "    gd, nest, adgd, ad_acc, nest_str,\n",
    "    adgrad_orig, adgrad_mod,\n",
    "    adgradnes_orig, adgradnes_mod\n",
    "]\n",
    "# markers = [',', 'o', '*', '^', 'D', 's', '.', 'X']\n",
    "\n",
    "labels = [\n",
    "    'GD', 'Nesterov', 'AdGD', 'AdGD-accel', 'Nesterov-strong',\n",
    "    'AdGrad-orig', 'AdGrad-mod',\n",
    "    'AdGradNes-orig', 'AdGradNes-mod'\n",
    "]\n",
    "markers = [',','o','*','^','D','s','.','X','v']\n",
    "\n",
    "# for opt, marker in zip(optimizers, markers):\n",
    "#     opt.compute_loss_on_iterates()\n",
    "# f_star = np.min([np.min(opt.losses) for opt in optimizers])\n",
    "\n",
    "# υπολόγισε f*\n",
    "for opt in optimizers:\n",
    "    opt.compute_loss_on_iterates()\n",
    "f_star = np.min([np.min(opt.losses) for opt in optimizers])\n",
    "\n",
    "plt.figure(figsize=(8, 6))\n",
    "for opt, marker, label in zip(optimizers, markers, labels):\n",
    "    opt.plot_losses(marker=marker, f_star=f_star, label=label)\n",
    "\n",
    "plt.yscale('log')\n",
    "plt.xlabel('Iteration')\n",
    "plt.ylabel(r'$f(x^k) - f_*$')\n",
    "plt.legend()\n",
    "plt.tight_layout()\n",
    "plt.show()\n",
    "\n",
    "# plt.figure(figsize=(8, 6))\n",
    "# labels = ['GD', 'Nesterov', 'AdGD', 'AdGD-accel', 'Nesterov-strong']\n",
    "# for opt, marker, label in zip(optimizers, markers + ['.', 'X'], labels):\n",
    "#     opt.plot_losses(marker=marker, f_star=f_star, label=label)\n",
    "# plt.yscale('log')\n",
    "# plt.xlabel('Iteration')\n",
    "# plt.ylabel(r'$f(x^k) - f_*$')\n",
    "# plt.legend()\n",
    "# plt.tight_layout()\n",
    "# plt.show()"
   ]
  },
  {
   "cell_type": "code",
   "execution_count": null,
   "id": "fb8d1456-241b-44be-bc30-a766efc7ce08",
   "metadata": {},
   "outputs": [],
   "source": [
    "adgd = Adgd(loss_func=loss_func, grad_func=grad_func, eps=0, it_max=500)\n",
    "adgd.run(w0=w0)\n",
    "plt.figure(figsize=(8, 6))\n",
    "my_green = sns.color_palette('bright')[2]\n",
    "plt.plot(adgd.its[2:], adgd.lrs[2:], label='AdGD', color=my_green)\n",
    "plt.axhline(y=1 / L, color='black', label='$1/L$')\n",
    "plt.axhline(y=1 / l2, color='red', label='$1/\\mu$')\n",
    "plt.yscale('log')\n",
    "plt.xlabel('Iteration')\n",
    "plt.ylabel('$\\lambda_k$')\n",
    "plt.legend()\n",
    "plt.tight_layout()\n",
    "plt.show()"
   ]
  }
 ],
 "metadata": {
  "kernelspec": {
   "display_name": "Python 3 (ipykernel)",
   "language": "python",
   "name": "python3"
  },
  "language_info": {
   "codemirror_mode": {
    "name": "ipython",
    "version": 3
   },
   "file_extension": ".py",
   "mimetype": "text/x-python",
   "name": "python",
   "nbconvert_exporter": "python",
   "pygments_lexer": "ipython3",
   "version": "3.12.5"
  }
 },
 "nbformat": 4,
 "nbformat_minor": 5
}
